{
 "cells": [
  {
   "cell_type": "markdown",
   "metadata": {
    "id": "8b6kTFpJW6Q9"
   },
   "source": [
    "# графики вероятностей"
   ]
  },
  {
   "cell_type": "code",
   "execution_count": null,
   "metadata": {
    "colab": {
     "base_uri": "https://localhost:8080/",
     "height": 299
    },
    "executionInfo": {
     "elapsed": 3591,
     "status": "ok",
     "timestamp": 1603009431081,
     "user": {
      "displayName": "Роман Ткаченко",
      "photoUrl": "https://lh3.googleusercontent.com/a-/AOh14GjtHNIuYVsH-T9VTUGS2m_-cjdW1aLTlDFXOc4S=s64",
      "userId": "06073298687854264763"
     },
     "user_tz": -120
    },
    "id": "f-vAYhF95Vuc",
    "outputId": "a4409c71-53f3-466d-a8ff-5196a4bcfb62"
   },
   "outputs": [
    {
     "name": "stdout",
     "output_type": "stream",
     "text": [
      "42 42 3.997441596658944 3.997441596658944 3.497449 12\n"
     ]
    },
    {
     "data": {
      "text/plain": [
       "[<matplotlib.lines.Line2D at 0x7fe698eada20>]"
      ]
     },
     "execution_count": 8,
     "metadata": {
      "tags": []
     },
     "output_type": "execute_result"
    },
    {
     "data": {
      "image/png": "[encoded data removed]",
      "text/plain": [
       "<Figure size 432x288 with 1 Axes>"
      ]
     },
     "metadata": {
      "needs_background": "light",
      "tags": []
     },
     "output_type": "display_data"
    }
   ],
   "source": [
    "import numpy as np\n",
    "from matplotlib import pyplot as plt\n",
    "\n",
    "#ys = 100 + np.random.randn(100)\n",
    "cub1=np.random.uniform(1,7,1000000)\n",
    "cub2=np.random.uniform(1,7,1000000)\n",
    "data=cub1\n",
    "x = [x for x in range(len(data))]\n",
    "#print(type(ys),type(np.random.randn(1000000)),type(100))\n",
    "r1=0; r2=0\n",
    "\n",
    "nbar=40; rasp=[0]*len(data); rasp2=[0]*len(data); rasp2d=[0]*len(data); \n",
    "raspred=[0]*(nbar+2); koef=1;\n",
    "\n",
    "for n in [n for n in range(len(data))]:\n",
    "  rasp[n]=int(koef*(data[n]))\n",
    "  rasp2[n]=int(koef*(cub2[n]))\n",
    "  rasp2d[n]=rasp[n]*rasp2[n]\n",
    "median=int(np.mean(rasp2d))\n",
    "for k in range(len(raspred)):  \n",
    "  raspred[k]=rasp2d.count(median-int(nbar/2)+k)\n",
    "xx=[m+median-nbar/2 for m in range(len(raspred))]\n",
    "#plt.plot(data, '-.')\n",
    "#print(rasp)\n",
    "print(len(xx), len(raspred),np.mean(data),np.mean(koef*(data)), np.mean(rasp),\n",
    "      median)\n",
    "plt.plot(xx,(raspred), '-o')\n",
    "#plt.fill_between([r1, r2], 195, where=(ys > 198), facecolor='g', alpha=0.6)\n",
    "#ys\n",
    "#plt.show()"
   ]
  },
  {
   "cell_type": "markdown",
   "metadata": {
    "id": "ajE2ujZxybvA"
   },
   "source": [
    "#код графиков"
   ]
  },
  {
   "cell_type": "code",
   "execution_count": null,
   "metadata": {
    "colab": {
     "base_uri": "https://localhost:8080/",
     "height": 244
    },
    "executionInfo": {
     "elapsed": 714,
     "status": "error",
     "timestamp": 1609830846777,
     "user": {
      "displayName": "Роман Ткаченко",
      "photoUrl": "https://lh3.googleusercontent.com/a-/AOh14GjtHNIuYVsH-T9VTUGS2m_-cjdW1aLTlDFXOc4S=s64",
      "userId": "06073298687854264763"
     },
     "user_tz": -180
    },
    "id": "cE5EfTzvxb03",
    "outputId": "706ad322-fb1a-4bf5-d58a-ef6b697cf202"
   },
   "outputs": [
    {
     "ename": "NameError",
     "evalue": "ignored",
     "output_type": "error",
     "traceback": [
      "\u001b[0;31m---------------------------------------------------------------------------\u001b[0m",
      "\u001b[0;31mNameError\u001b[0m                                 Traceback (most recent call last)",
      "\u001b[0;32m<ipython-input-3-30df3581c478>\u001b[0m in \u001b[0;36m<module>\u001b[0;34m()\u001b[0m\n\u001b[1;32m      7\u001b[0m \u001b[0mcub2\u001b[0m\u001b[0;34m=\u001b[0m\u001b[0mnp\u001b[0m\u001b[0;34m.\u001b[0m\u001b[0mrandom\u001b[0m\u001b[0;34m.\u001b[0m\u001b[0muniform\u001b[0m\u001b[0;34m(\u001b[0m\u001b[0;36m1\u001b[0m\u001b[0;34m,\u001b[0m\u001b[0;36m7\u001b[0m\u001b[0;34m,\u001b[0m\u001b[0mnumb_try\u001b[0m\u001b[0;34m)\u001b[0m\u001b[0;34m\u001b[0m\u001b[0;34m\u001b[0m\u001b[0m\n\u001b[1;32m      8\u001b[0m \u001b[0;31m#data=np.random.normal(10, 1, (100000, my_array.shape[1]))\u001b[0m\u001b[0;34m\u001b[0m\u001b[0;34m\u001b[0m\u001b[0;34m\u001b[0m\u001b[0m\n\u001b[0;32m----> 9\u001b[0;31m \u001b[0mdata\u001b[0m\u001b[0;34m=\u001b[0m\u001b[0mmy_generated_array\u001b[0m\u001b[0;34m\u001b[0m\u001b[0;34m\u001b[0m\u001b[0m\n\u001b[0m\u001b[1;32m     10\u001b[0m \u001b[0;34m\u001b[0m\u001b[0m\n\u001b[1;32m     11\u001b[0m \u001b[0mrasp2d\u001b[0m\u001b[0;34m=\u001b[0m\u001b[0mrasp2\u001b[0m\u001b[0;34m=\u001b[0m\u001b[0mrasp1\u001b[0m\u001b[0;34m=\u001b[0m\u001b[0mnp\u001b[0m\u001b[0;34m.\u001b[0m\u001b[0mfull_like\u001b[0m\u001b[0;34m(\u001b[0m\u001b[0mdata\u001b[0m\u001b[0;34m,\u001b[0m\u001b[0;36m0\u001b[0m\u001b[0;34m)\u001b[0m\u001b[0;34m\u001b[0m\u001b[0;34m\u001b[0m\u001b[0m\n",
      "\u001b[0;31mNameError\u001b[0m: name 'my_generated_array' is not defined"
     ]
    }
   ],
   "source": [
    "#гистограммы по столбцам предыдущих массивов(случайные числа; ирисы; их произведение)\n",
    "import numpy as np\n",
    "from matplotlib import pyplot as plt\n",
    "\n",
    "numb_try=10000; nbar=15; koef=nbar/8;\n",
    "cub1=np.random.uniform(1,7,numb_try)\n",
    "cub2=np.random.uniform(1,7,numb_try)\n",
    "#data=np.random.normal(10, 1, (100000, my_array.shape[1]))\n",
    "data=my_generated_array\n",
    "\n",
    "rasp2d=rasp2=rasp1=np.full_like(data,0)  \n",
    "raspred=np.zeros((nbar,data.shape[1]));\n",
    "\n",
    "meandat=(np.mean(data,axis=0)); \n",
    "for n in [n for n in range(len(data))]:\n",
    "  rasp1[n]=np.around(koef*(data[n]-meandat)+(nbar+1)%2/2)\n",
    "  #rasp2[n]=int(koef*(cub2[n]))\n",
    "  rasp2d[n]=rasp1[n]\n",
    "\n",
    "for k in range(-int(nbar/2)+(nbar+1)%2,int(nbar/2)+1):  \n",
    "  raspred[k+int(nbar/2)-(nbar+1)%2]=np.count_nonzero(rasp2d==k,axis=0)/([len(data)]*data.shape[1])\n",
    "\n",
    "xx=np.array([m-(nbar+1)%2/2 for m in range(-int(nbar/2)+(nbar+1)%2,int(nbar/2)+1)])/koef\n",
    "\n",
    "plt.figure(figsize=(18, 6))\n",
    "ax = plt.subplot(221)\n",
    "color_plot=['b', 'g', 'r', 'c', 'm', 'y', 'k', 'w']\n",
    "for ncol in range(data.shape[1]):\n",
    "  plt.plot(xx+meandat[ncol],(raspred[:,ncol]), color=color_plot[ncol], marker='o', linestyle='dashed', linewidth=2,)\n",
    "plt.grid(True)\n",
    "plt.xlabel('значение элемента')\n",
    "plt.ylabel('плотность вероятности', multialignment='center')\n",
    "\n",
    "plt.subplot(223)\n",
    "data=my_array\n",
    "\n",
    "rasp2d=rasp2=rasp1=np.full_like(data,0)  \n",
    "raspred=np.zeros((nbar,data.shape[1]));\n",
    "\n",
    "meandat=(np.mean(data,axis=0)); \n",
    "for n in [n for n in range(len(data))]:\n",
    "  rasp1[n]=np.around(koef*(data[n]-meandat)+(nbar+1)%2/2)\n",
    "  #rasp2[n]=int(koef*(cub2[n]))\n",
    "  rasp2d[n]=rasp1[n]\n",
    "\n",
    "for k in range(-int(nbar/2)+(nbar+1)%2,int(nbar/2)+1):  \n",
    "  raspred[k+int(nbar/2)-(nbar+1)%2]=np.count_nonzero(rasp2d==k,axis=0)/([len(data)]*data.shape[1])\n",
    "\n",
    "xx=np.array([m-(nbar+1)%2/2 for m in range(-int(nbar/2)+(nbar+1)%2,int(nbar/2)+1)])/koef\n",
    "\n",
    "for ncol in range(1,data.shape[1]):\n",
    "  plt.plot(xx+meandat[ncol],(raspred[:,ncol]), color=color_plot[ncol], marker='o', linewidth=2,)\n",
    "plt.xlabel('значение элемента')\n",
    "plt.ylabel('плотность вероятности', multialignment='center')\n",
    "plt.grid(True)\n",
    "\n",
    "plt.subplot(122)\n",
    "data=my_array*my_generated_array\n",
    "\n",
    "rasp2d=rasp2=rasp1=np.full_like(data,0)  \n",
    "raspred=np.zeros((nbar,data.shape[1]));\n",
    "\n",
    "meandat=(np.mean(data,axis=0)); \n",
    "for n in [n for n in range(len(data))]:\n",
    "  rasp1[n]=np.around(koef*(data[n]-meandat)+(nbar+1)%2/2)\n",
    "  #rasp2[n]=int(koef*(cub2[n]))\n",
    "  rasp2d[n]=rasp1[n]\n",
    "\n",
    "for k in range(-int(nbar/2)+(nbar+1)%2,int(nbar/2)+1):  \n",
    "  raspred[k+int(nbar/2)-(nbar+1)%2]=np.count_nonzero(rasp2d==k,axis=0)/([len(data)]*data.shape[1])\n",
    "\n",
    "xx=np.array([m-(nbar+1)%2/2 for m in range(-int(nbar/2)+(nbar+1)%2,int(nbar/2)+1)])/koef\n",
    "\n",
    "for ncol in range(1,data.shape[1]):\n",
    "  plt.plot(xx+meandat[ncol],(raspred[:,ncol]), color=color_plot[ncol], marker='o', linewidth=2,)\n",
    "plt.xlabel('значение элемента')\n",
    "plt.ylabel('плотность вероятности', multialignment='center')\n",
    "#plt.xticks([1,2, 3], [\"выиграл\", \"проиграл\", \"ничья\"])\n",
    "plt.grid(True)\n",
    "plt.show()"
   ]
  }
 ],
 "metadata": {
  "colab": {
   "authorship_tag": "ABX9TyNbJ9oNqJZMdCSNc20cOncy",
   "collapsed_sections": [
    "8b6kTFpJW6Q9",
    "k-ufh4GZv9Kf",
    "ELNO-GWNFugo"
   ],
   "name": "primer1.ipynb",
   "provenance": []
  },
  "kernelspec": {
   "display_name": "Python 3",
   "language": "python",
   "name": "python3"
  },
  "language_info": {
   "codemirror_mode": {
    "name": "ipython",
    "version": 3
   },
   "file_extension": ".py",
   "mimetype": "text/x-python",
   "name": "python",
   "nbconvert_exporter": "python",
   "pygments_lexer": "ipython3",
   "version": "3.8.5"
  }
 },
 "nbformat": 4,
 "nbformat_minor": 1
}
